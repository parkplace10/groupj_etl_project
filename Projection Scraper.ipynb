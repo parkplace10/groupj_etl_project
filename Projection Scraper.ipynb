{
 "cells": [
  {
   "cell_type": "code",
   "execution_count": 2,
   "metadata": {},
   "outputs": [],
   "source": [
    "import pandas as pd\n",
    "\n",
    "from sqlalchemy import create_engine\n",
    "\n",
    "import pymysql\n",
    "pymysql.install_as_MySQLdb()"
   ]
  },
  {
   "cell_type": "markdown",
   "metadata": {},
   "source": [
    "# Change the following variables to match the season and week you need"
   ]
  },
  {
   "cell_type": "code",
   "execution_count": 3,
   "metadata": {},
   "outputs": [],
   "source": [
    "season = 2018\n",
    "week = 16"
   ]
  },
  {
   "cell_type": "markdown",
   "metadata": {},
   "source": [
    "# Extraction of Data"
   ]
  },
  {
   "cell_type": "code",
   "execution_count": 4,
   "metadata": {},
   "outputs": [
    {
     "name": "stderr",
     "output_type": "stream",
     "text": [
      "C:\\Users\\frank\\Anaconda3\\envs\\PythonData\\lib\\site-packages\\ipykernel\\__main__.py:26: FutureWarning: Sorting because non-concatenation axis is not aligned. A future version\n",
      "of pandas will change to not sort by default.\n",
      "\n",
      "To accept the future behavior, pass 'sort=True'.\n",
      "\n",
      "To retain the current behavior and silence the warning, pass sort=False\n",
      "\n"
     ]
    }
   ],
   "source": [
    "#Extracting ESPN Projections\n",
    "\n",
    "\n",
    "position_ids = [0,2,4,6] #qb=0 rb=2 wr=4 te=6\n",
    "pages = [0,40]\n",
    "\n",
    "dummy = pd.DataFrame()\n",
    "for position in position_ids:\n",
    "    for page in pages:\n",
    "        url = f\"http://games.espn.com/ffl/tools/projections?&slotCategoryId={position}&scoringPeriodId={week}&seasonId={season}&startIndex={page}\"\n",
    "        df = pd.read_html(url,header=1)\n",
    "        df = df[1]\n",
    "        if position == 0:\n",
    "            pos = \"QB\"\n",
    "        if position == 2:\n",
    "            pos = \"RB\"\n",
    "        if position == 4:\n",
    "            pos = \"WR\"\n",
    "        if position == 6:\n",
    "            pos = \"TE\"\n",
    "        df = df['PLAYER, TEAM POS'].str.split(',',expand=True)\n",
    "        df['Position'] = pos\n",
    "        if position == 0 and page == 0:\n",
    "            main = pd.concat([dummy,df])\n",
    "        else:\n",
    "            main = pd.concat([main,df])\n",
    "main.to_csv(f'resources/espn_projections/espn-week{week}-projections.csv')"
   ]
  },
  {
   "cell_type": "code",
   "execution_count": 5,
   "metadata": {},
   "outputs": [],
   "source": [
    "#Extracting Site 2 \n",
    "csv_file = f'Resources/Site_2_Projections/Site_2_W{week}_projections.csv'\n",
    "four44_df = pd.read_csv(csv_file)"
   ]
  },
  {
   "cell_type": "code",
   "execution_count": 6,
   "metadata": {},
   "outputs": [
    {
     "data": {
      "text/html": [
       "<div>\n",
       "<style scoped>\n",
       "    .dataframe tbody tr th:only-of-type {\n",
       "        vertical-align: middle;\n",
       "    }\n",
       "\n",
       "    .dataframe tbody tr th {\n",
       "        vertical-align: top;\n",
       "    }\n",
       "\n",
       "    .dataframe thead th {\n",
       "        text-align: right;\n",
       "    }\n",
       "</style>\n",
       "<table border=\"1\" class=\"dataframe\">\n",
       "  <thead>\n",
       "    <tr style=\"text-align: right;\">\n",
       "      <th></th>\n",
       "      <th>Rank</th>\n",
       "      <th>Pos</th>\n",
       "      <th>ID</th>\n",
       "      <th>Name</th>\n",
       "      <th>Team</th>\n",
       "      <th>Opp</th>\n",
       "      <th>Comp</th>\n",
       "      <th>Yards</th>\n",
       "      <th>TD</th>\n",
       "      <th>Int</th>\n",
       "      <th>Att</th>\n",
       "      <th>Yards.1</th>\n",
       "      <th>TD.1</th>\n",
       "      <th>Rec</th>\n",
       "      <th>Yards.2</th>\n",
       "      <th>TD.2</th>\n",
       "      <th>Fantasy Points</th>\n",
       "    </tr>\n",
       "  </thead>\n",
       "  <tbody>\n",
       "    <tr>\n",
       "      <th>0</th>\n",
       "      <td>1</td>\n",
       "      <td>QB</td>\n",
       "      <td>13116</td>\n",
       "      <td>Mahomes, Patrick</td>\n",
       "      <td>KCC</td>\n",
       "      <td>SEA</td>\n",
       "      <td>27.39</td>\n",
       "      <td>349</td>\n",
       "      <td>3.17</td>\n",
       "      <td>0.64</td>\n",
       "      <td>3.52</td>\n",
       "      <td>16</td>\n",
       "      <td>0.11</td>\n",
       "      <td>0.00</td>\n",
       "      <td>0</td>\n",
       "      <td>0.00</td>\n",
       "      <td>32</td>\n",
       "    </tr>\n",
       "    <tr>\n",
       "      <th>1</th>\n",
       "      <td>2</td>\n",
       "      <td>QB</td>\n",
       "      <td>10703</td>\n",
       "      <td>Wilson, Russell</td>\n",
       "      <td>SEA</td>\n",
       "      <td>KCC</td>\n",
       "      <td>22.20</td>\n",
       "      <td>262</td>\n",
       "      <td>2.56</td>\n",
       "      <td>0.41</td>\n",
       "      <td>4.12</td>\n",
       "      <td>24</td>\n",
       "      <td>0.07</td>\n",
       "      <td>0.00</td>\n",
       "      <td>0</td>\n",
       "      <td>0.00</td>\n",
       "      <td>26</td>\n",
       "    </tr>\n",
       "    <tr>\n",
       "      <th>2</th>\n",
       "      <td>3</td>\n",
       "      <td>QB</td>\n",
       "      <td>9099</td>\n",
       "      <td>Ryan, Matt</td>\n",
       "      <td>ATL</td>\n",
       "      <td>CAR</td>\n",
       "      <td>27.11</td>\n",
       "      <td>310</td>\n",
       "      <td>1.93</td>\n",
       "      <td>0.49</td>\n",
       "      <td>1.79</td>\n",
       "      <td>8</td>\n",
       "      <td>0.15</td>\n",
       "      <td>0.00</td>\n",
       "      <td>0</td>\n",
       "      <td>0.00</td>\n",
       "      <td>25</td>\n",
       "    </tr>\n",
       "    <tr>\n",
       "      <th>3</th>\n",
       "      <td>4</td>\n",
       "      <td>RB</td>\n",
       "      <td>13130</td>\n",
       "      <td>McCaffrey, Christian</td>\n",
       "      <td>CAR</td>\n",
       "      <td>ATL</td>\n",
       "      <td>0.00</td>\n",
       "      <td>0</td>\n",
       "      <td>0.00</td>\n",
       "      <td>0.00</td>\n",
       "      <td>12.49</td>\n",
       "      <td>59</td>\n",
       "      <td>0.46</td>\n",
       "      <td>6.68</td>\n",
       "      <td>56</td>\n",
       "      <td>0.44</td>\n",
       "      <td>25</td>\n",
       "    </tr>\n",
       "    <tr>\n",
       "      <th>4</th>\n",
       "      <td>5</td>\n",
       "      <td>QB</td>\n",
       "      <td>7401</td>\n",
       "      <td>Roethlisberger, Ben</td>\n",
       "      <td>PIT</td>\n",
       "      <td>NOS</td>\n",
       "      <td>26.70</td>\n",
       "      <td>308</td>\n",
       "      <td>2.15</td>\n",
       "      <td>0.96</td>\n",
       "      <td>1.73</td>\n",
       "      <td>5</td>\n",
       "      <td>0.12</td>\n",
       "      <td>0.00</td>\n",
       "      <td>0</td>\n",
       "      <td>0.00</td>\n",
       "      <td>25</td>\n",
       "    </tr>\n",
       "  </tbody>\n",
       "</table>\n",
       "</div>"
      ],
      "text/plain": [
       "   Rank Pos     ID                  Name Team  Opp   Comp  Yards    TD   Int  \\\n",
       "0     1  QB  13116      Mahomes, Patrick  KCC  SEA  27.39    349  3.17  0.64   \n",
       "1     2  QB  10703       Wilson, Russell  SEA  KCC  22.20    262  2.56  0.41   \n",
       "2     3  QB   9099            Ryan, Matt  ATL  CAR  27.11    310  1.93  0.49   \n",
       "3     4  RB  13130  McCaffrey, Christian  CAR  ATL   0.00      0  0.00  0.00   \n",
       "4     5  QB   7401   Roethlisberger, Ben  PIT  NOS  26.70    308  2.15  0.96   \n",
       "\n",
       "     Att  Yards.1  TD.1   Rec  Yards.2  TD.2  Fantasy Points  \n",
       "0   3.52       16  0.11  0.00        0  0.00              32  \n",
       "1   4.12       24  0.07  0.00        0  0.00              26  \n",
       "2   1.79        8  0.15  0.00        0  0.00              25  \n",
       "3  12.49       59  0.46  6.68       56  0.44              25  \n",
       "4   1.73        5  0.12  0.00        0  0.00              25  "
      ]
     },
     "execution_count": 6,
     "metadata": {},
     "output_type": "execute_result"
    }
   ],
   "source": [
    "#Extracting Fantasy Sharks\n",
    "csv_file = f'Resources/Fantasy_Sharks_Projections/W{week}_Projections.csv'\n",
    "\n",
    "#Resources\\Fantasy_Sharks_Projections\\fantasysharks_W16_Projections.csv\n",
    "sharks_df = pd.read_csv(csv_file)"
   ]
  },
  {
   "cell_type": "markdown",
   "metadata": {},
   "source": [
    "# Transformation of Data"
   ]
  },
  {
   "cell_type": "code",
   "execution_count": null,
   "metadata": {},
   "outputs": [],
   "source": [
    "#transforming ESPN Data"
   ]
  },
  {
   "cell_type": "code",
   "execution_count": null,
   "metadata": {},
   "outputs": [],
   "source": [
    "#transforming Site 2\n",
    "\n",
    "# Applying Fanduel uniform scoring system to Fantasy Sharks raw predictions and creating a new column with the results\n",
    "four44_df['Site 2'] = four44_df['Pass Yds'] * .04 + four44_df['Rush Yds'] * .1 + four44_df['Rec Yds'] * .1 + \\\n",
    "four44_df['Pass TD'] * 4 + four44_df['Rush TD'] * 6 + four44_df['Rec TD'] * 6 + four44_df['Rec'] * .5 + four44_df['INT'] * -1 \\\n",
    "+ four44_df['Fum'] * -2\n",
    "\n",
    "#dropping unneeded columns\n",
    "four44_df = four44_df.drop(['PID','Pos','Team','Opp','aFPA','aFPA Rk','FFPts','Comp','Pass Att','Pass Yds','Pass TD','INT',\n",
    "'Rush Att','Rush Yds','Rush TD','Rec','Rec Yds','Rec TD','Pa1D','Ru1D','Rec1D','Fum','XP','FG','Grade'], axis=1)\n",
    "\n",
    "# Rename player column to \"Name\"\n",
    "four44_df.rename(columns = {\"Player\": \"Name\"}, inplace = True)"
   ]
  },
  {
   "cell_type": "code",
   "execution_count": null,
   "metadata": {},
   "outputs": [],
   "source": [
    "#transforming Fantasy Sharks\n",
    "\n",
    "# Splitting the name into 2 seperate columns\n",
    "sharks_df[['Last Name','First Name']] = sharks_df['Name'].str.split(', ',expand=True)\n",
    "\n",
    "# Recombine names into one column in the order of First Last\n",
    "sharks_df['Name'] = sharks_df['First Name'].str.cat(sharks_df['Last Name'],sep=\" \")\n",
    "\n",
    "# Applying Fanduel uniform scoring system to Fantasy Sharks raw predictions and creating a new column with the results\n",
    "sharks_df['Fantasy Sharks'] = sharks_df['Yards'] * .04 + sharks_df['Yards.1'] * .1 + sharks_df['Yards.2'] * .1 + \\\n",
    "sharks_df['TD'] * 4 + sharks_df['TD.1'] * 6 + sharks_df['TD.2'] * 6 + sharks_df['Rec'] * .5 + sharks_df['Int'] * -1 \n",
    "\n",
    "#Removing unneeded columns\n",
    "sharks_df = sharks_df.drop(['ID', 'Rank', 'First Name', 'Last Name', 'Comp', 'Yards', 'TD', 'TD.1', \n",
    "'TD.2', 'Int', 'Att', 'Yards.1', 'Yards.2', 'Rec', 'Fantasy Points'], axis=1)\n"
   ]
  },
  {
   "cell_type": "code",
   "execution_count": null,
   "metadata": {},
   "outputs": [],
   "source": [
    "#combining cleaned DataFrames into one DataFrame\n",
    "\n",
    "combined_df = sharks_df.merge(four44_df, on=['Name'], sort=False)\n",
    "\n",
    "combined_df.round({'Fantasy Sharks': 1, 'Site 2': 1})\n",
    "\n",
    "\n",
    "pd.options.display.float_format = '{:,.2f}'.format\n",
    "\n",
    "combined_df = combined_df[['Season', 'Week', 'Name', 'Pos', 'Team', 'Opp', 'Fantasy Sharks', 'Site 2']]\n",
    "\n",
    "combined_df.head()"
   ]
  }
 ],
 "metadata": {
  "kernelspec": {
   "display_name": "Python [conda env:PythonData]",
   "language": "python",
   "name": "conda-env-PythonData-py"
  },
  "language_info": {
   "codemirror_mode": {
    "name": "ipython",
    "version": 3
   },
   "file_extension": ".py",
   "mimetype": "text/x-python",
   "name": "python",
   "nbconvert_exporter": "python",
   "pygments_lexer": "ipython3",
   "version": "3.6.5"
  }
 },
 "nbformat": 4,
 "nbformat_minor": 2
}
