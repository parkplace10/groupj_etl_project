{
 "cells": [
  {
   "cell_type": "code",
   "execution_count": 12,
   "metadata": {},
   "outputs": [],
   "source": [
    "import pandas as pd"
   ]
  },
  {
   "cell_type": "code",
   "execution_count": 20,
   "metadata": {},
   "outputs": [],
   "source": [
    "#espn\n",
    "\n",
    "season = 2018\n",
    "week = 16 #insert week number here each week\n",
    "position_ids = [0,2,4,6] #qb=0 rb=2 wr=4 te=6\n",
    "pg1 = 0\n",
    "pg2 = 40\n",
    "        "
   ]
  },
  {
   "cell_type": "code",
   "execution_count": 32,
   "metadata": {},
   "outputs": [],
   "source": [
    "for position in position_ids:\n",
    "        url = f\"http://games.espn.com/ffl/tools/projections?&slotCategoryId={position}&scoringPeriodId={week}&seasonId={season}\"\n",
    "        df = pd.read_html(url,header=1)\n",
    "        df = df[1]\n",
    "        if position == 0:\n",
    "            pos = \"QB\"\n",
    "        if position == 2:\n",
    "            pos = \"RB\"\n",
    "        if position == 4:\n",
    "            pos = \"WR\"\n",
    "        if position == 6:\n",
    "            pos = \"TE\"\n",
    "        df.to_csv(f'espn-week{week}-{pos}-projections.csv')\n",
    "    "
   ]
  },
  {
   "cell_type": "code",
   "execution_count": null,
   "metadata": {},
   "outputs": [],
   "source": [
    "\n"
   ]
  },
  {
   "cell_type": "code",
   "execution_count": null,
   "metadata": {},
   "outputs": [],
   "source": []
  }
 ],
 "metadata": {
  "kernelspec": {
   "display_name": "Python [default]",
   "language": "python",
   "name": "python3"
  },
  "language_info": {
   "codemirror_mode": {
    "name": "ipython",
    "version": 3
   },
   "file_extension": ".py",
   "mimetype": "text/x-python",
   "name": "python",
   "nbconvert_exporter": "python",
   "pygments_lexer": "ipython3",
   "version": "3.6.5"
  }
 },
 "nbformat": 4,
 "nbformat_minor": 2
}
