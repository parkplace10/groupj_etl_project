{
 "cells": [
  {
   "cell_type": "code",
   "execution_count": 1,
   "metadata": {},
   "outputs": [],
   "source": [
    "import pandas as pd"
   ]
  },
  {
   "cell_type": "code",
   "execution_count": 2,
   "metadata": {},
   "outputs": [],
   "source": [
    "#espn\n",
    "\n",
    "season = 2018\n",
    "week = 16 #insert week number here each week\n",
    "position_ids = [0,2,4,6] #qb=0 rb=2 wr=4 te=6\n",
    "pages = [0,40] #0 = 1st page 40 = 2nd page\n",
    "        "
   ]
  },
  {
   "cell_type": "code",
   "execution_count": 6,
   "metadata": {},
   "outputs": [
    {
     "name": "stderr",
     "output_type": "stream",
     "text": [
      "C:\\Users\\frank\\Anaconda3\\envs\\PythonData\\lib\\site-packages\\ipykernel\\__main__.py:20: FutureWarning: Sorting because non-concatenation axis is not aligned. A future version\n",
      "of pandas will change to not sort by default.\n",
      "\n",
      "To accept the future behavior, pass 'sort=True'.\n",
      "\n",
      "To retain the current behavior and silence the warning, pass sort=False\n",
      "\n"
     ]
    }
   ],
   "source": [
    "dummy = pd.DataFrame()\n",
    "for position in position_ids:\n",
    "    for page in pages:\n",
    "        url = f\"http://games.espn.com/ffl/tools/projections?&slotCategoryId={position}&scoringPeriodId={week}&seasonId={season}&startIndex={page}\"\n",
    "        df = pd.read_html(url,header=1)\n",
    "        df = df[1]\n",
    "        if position == 0:\n",
    "            pos = \"QB\"\n",
    "        if position == 2:\n",
    "            pos = \"RB\"\n",
    "        if position == 4:\n",
    "            pos = \"WR\"\n",
    "        if position == 6:\n",
    "            pos = \"TE\"\n",
    "        df = df['PLAYER, TEAM POS'].str.split(',',expand=True)\n",
    "        df['Position'] = pos\n",
    "        if position == 0 and page == 0:\n",
    "            main = pd.concat([dummy,df])\n",
    "        else:\n",
    "            main = pd.concat([main,df])\n",
    "main.to_csv(f'espn-week{week}-projections.csv')\n",
    "    "
   ]
  },
  {
   "cell_type": "code",
   "execution_count": 36,
   "metadata": {},
   "outputs": [],
   "source": []
  },
  {
   "cell_type": "code",
   "execution_count": null,
   "metadata": {},
   "outputs": [],
   "source": []
  }
 ],
 "metadata": {
  "kernelspec": {
   "display_name": "Python [default]",
   "language": "python",
   "name": "python3"
  },
  "language_info": {
   "codemirror_mode": {
    "name": "ipython",
    "version": 3
   },
   "file_extension": ".py",
   "mimetype": "text/x-python",
   "name": "python",
   "nbconvert_exporter": "python",
   "pygments_lexer": "ipython3",
   "version": "3.6.5"
  }
 },
 "nbformat": 4,
 "nbformat_minor": 2
}
